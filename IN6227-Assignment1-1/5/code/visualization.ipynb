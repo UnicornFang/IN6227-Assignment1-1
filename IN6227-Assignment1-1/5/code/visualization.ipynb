{
 "cells": [
  {
   "cell_type": "code",
   "execution_count": 1,
   "id": "cb827a8a-87d9-45e6-ba2f-073a13a6e532",
   "metadata": {},
   "outputs": [
    {
     "name": "stdout",
     "output_type": "stream",
     "text": [
      "(32561, 15)\n",
      "(16282, 15)\n",
      "训练集缺失值行数： 0\n",
      "测试集缺失值行数： 1\n",
      "删除缺失值后测试集缺失值行数： 0\n",
      "(32561, 15)\n",
      "(16281, 15)\n"
     ]
    },
    {
     "name": "stderr",
     "output_type": "stream",
     "text": [
      "\n",
      "KeyboardInterrupt\n",
      "\n"
     ]
    }
   ],
   "source": [
    "from CART import ClassificationTree\n",
    "from Tree import DecisionTree\n",
    "import pandas as pd\n",
    "import numpy as np\n",
    "\n",
    "from sklearn.metrics import confusion_matrix , roc_curve , auc , classification_report ,accuracy_score\n",
    "from sklearn.preprocessing import LabelEncoder\n",
    "\n",
    "import seaborn as sns\n",
    "import matplotlib.pyplot as plt\n",
    "plt.rcParams['font.sans-serif'] = ['SimHei']\n",
    "plt.rcParams['axes.unicode_minus']=False\n",
    "\n",
    "# 忽略警告\n",
    "import warnings\n",
    "warnings.filterwarnings(\"ignore\", category=DeprecationWarning)"
   ]
  },
  {
   "cell_type": "code",
   "execution_count": null,
   "id": "8cd7269d-d92f-4a3c-ae7a-d06605324f08",
   "metadata": {},
   "outputs": [],
   "source": [
    "# 读取数据\n",
    "columns_list = ['age','workclass','fnlwgt','education','education-num','marital-status','occupation','relationship','race','sex','capital-gain','capital-loss','hours-per-week','native-country','label']\n",
    "train_data = pd.read_csv(\"../data/adult.data\",header=None,names=columns_list)\n",
    "test_data = pd.read_csv(\"../data/adult.test\",header=None,names=columns_list)"
   ]
  },
  {
   "cell_type": "code",
   "execution_count": null,
   "id": "8828e9bf-dd69-4495-89f8-56e14d5d08f4",
   "metadata": {},
   "outputs": [],
   "source": [
    "print(train_data.shape)\n",
    "print(test_data.shape)"
   ]
  },
  {
   "cell_type": "code",
   "execution_count": null,
   "id": "44606e7d-3cdd-4bc8-9070-db69db929d18",
   "metadata": {},
   "outputs": [],
   "source": [
    "# 查看缺失值\n",
    "missing_rows_train  = train_data.isnull().sum(axis=1)\n",
    "missing_rows_test  = test_data.isnull().sum(axis=1)\n",
    "print(\"训练集缺失值行数：\",len(missing_rows_train[missing_rows_train > 0]))\n",
    "print(\"测试集缺失值行数：\",len(missing_rows_test[missing_rows_test > 0]))"
   ]
  },
  {
   "cell_type": "code",
   "execution_count": null,
   "id": "c4967d10-a76d-4811-ae94-dfd5a3ecc4c9",
   "metadata": {},
   "outputs": [],
   "source": [
    "# 删除测试集具有缺失值的行\n",
    "test_data = test_data.dropna().reset_index(drop=True)\n",
    "missing_rows_test  = test_data.isnull().sum(axis=1)\n",
    "print(\"删除缺失值后测试集缺失值行数：\",len(missing_rows_test[missing_rows_test > 0]))\n",
    "print(train_data.shape)\n",
    "print(test_data.shape)"
   ]
  },
  {
   "cell_type": "code",
   "execution_count": null,
   "id": "7f55d3a3-f7ac-471c-bc40-fa97038ad349",
   "metadata": {},
   "outputs": [],
   "source": [
    "# 标签化\n",
    "train_data['label'] = train_data['label'].apply(lambda x:1 if x==\" <=50K\" else 0)\n",
    "test_data['label'] = test_data['label'].apply(lambda x:1 if x==\" <=50K.\" else 0)\n",
    "\n",
    "print(\"训练集标签分布:\\n\",train_data['label'].value_counts())\n",
    "print(\"测试集标签分布:\\n\",test_data['label'].value_counts())"
   ]
  },
  {
   "cell_type": "code",
   "execution_count": null,
   "id": "4df6ada1-c35f-45eb-9d24-03ef9b17ba0c",
   "metadata": {},
   "outputs": [],
   "source": [
    "train_data.info()"
   ]
  },
  {
   "cell_type": "code",
   "execution_count": null,
   "id": "fe160889-9d39-4f5f-aa16-5c96b3a846a1",
   "metadata": {},
   "outputs": [],
   "source": [
    "test_data.info()"
   ]
  },
  {
   "cell_type": "code",
   "execution_count": null,
   "id": "ec52810a-bb37-42f9-9be0-b240af427ba7",
   "metadata": {},
   "outputs": [],
   "source": [
    "# 将训练集的数据类型和测试集的数据类型进行统一\n",
    "train_data[[\"fnlwgt\",\"education-num\",\"capital-gain\",\"capital-loss\",\"hours-per-week\"]] = train_data[[\"fnlwgt\",\"education-num\",\"capital-gain\",\"capital-loss\",\"hours-per-week\"]].astype(np.float64)\n",
    "test_data[\"age\"] = test_data[\"age\"].astype(np.int64)"
   ]
  },
  {
   "cell_type": "code",
   "execution_count": 127,
   "id": "9e94ba4a-4665-412e-949a-9a0cff3442ab",
   "metadata": {},
   "outputs": [],
   "source": [
    "# 对age数据进行划分 18岁以下岁为 青少年 ；18-45岁为 青年 ；46-69岁为中年；69岁以上为 老年\n",
    "def split_age(x):\n",
    "    if x < 18:\n",
    "        return \"juvenile\"\n",
    "    elif 18<= x < 45:\n",
    "        return \"youth\"\n",
    "    elif 45 <= x < 69:\n",
    "        return \"midlife\"\n",
    "    else:\n",
    "        return \"old age\"\n",
    "\n",
    "train_data[\"age\"] = train_data[\"age\"].apply(lambda x:split_age(x))\n",
    "test_data[\"age\"] = test_data[\"age\"].apply(lambda x:split_age(x))"
   ]
  },
  {
   "cell_type": "code",
   "execution_count": 128,
   "id": "1d8b7982-209a-43ee-8c19-c153e0a596e1",
   "metadata": {},
   "outputs": [],
   "source": [
    "# 将连续型数据分组化\n",
    "for item in [\"fnlwgt\",\"education-num\",\"capital-gain\",\"capital-loss\",\"hours-per-week\"]:\n",
    "    train_data[item] = pd.cut(train_data[item], 5)\n",
    "    test_data[item] = pd.cut(test_data[item],5)"
   ]
  },
  {
   "cell_type": "code",
   "execution_count": 129,
   "id": "18cbca5b-3947-478b-9d39-693f8f827099",
   "metadata": {},
   "outputs": [],
   "source": [
    "# 标签编码\n",
    "encoder = LabelEncoder()\n",
    "features = [item for item in list(train_data.columns) if item != \"label\"]\n",
    "for items in features:\n",
    "    train_data[items] = encoder.fit_transform(train_data[items])\n",
    "    test_data[items] = encoder.fit_transform(test_data[items])"
   ]
  },
  {
   "cell_type": "code",
   "execution_count": 130,
   "id": "e6b71f5e-0e1d-41d6-b536-89aa8e3e93f6",
   "metadata": {},
   "outputs": [
    {
     "name": "stdout",
     "output_type": "stream",
     "text": [
      "<class 'pandas.core.frame.DataFrame'>\n",
      "RangeIndex: 32561 entries, 0 to 32560\n",
      "Data columns (total 15 columns):\n",
      " #   Column          Non-Null Count  Dtype\n",
      "---  ------          --------------  -----\n",
      " 0   age             32561 non-null  int32\n",
      " 1   workclass       32561 non-null  int32\n",
      " 2   fnlwgt          32561 non-null  int32\n",
      " 3   education       32561 non-null  int32\n",
      " 4   education-num   32561 non-null  int32\n",
      " 5   marital-status  32561 non-null  int32\n",
      " 6   occupation      32561 non-null  int32\n",
      " 7   relationship    32561 non-null  int32\n",
      " 8   race            32561 non-null  int32\n",
      " 9   sex             32561 non-null  int32\n",
      " 10  capital-gain    32561 non-null  int32\n",
      " 11  capital-loss    32561 non-null  int32\n",
      " 12  hours-per-week  32561 non-null  int32\n",
      " 13  native-country  32561 non-null  int32\n",
      " 14  label           32561 non-null  int64\n",
      "dtypes: int32(14), int64(1)\n",
      "memory usage: 2.0 MB\n"
     ]
    }
   ],
   "source": [
    "train_data.info()"
   ]
  },
  {
   "cell_type": "code",
   "execution_count": 131,
   "id": "b19690f4-9e49-4c53-bdcd-974dbd50f0c1",
   "metadata": {},
   "outputs": [
    {
     "data": {
      "text/html": [
       "<div>\n",
       "<style scoped>\n",
       "    .dataframe tbody tr th:only-of-type {\n",
       "        vertical-align: middle;\n",
       "    }\n",
       "\n",
       "    .dataframe tbody tr th {\n",
       "        vertical-align: top;\n",
       "    }\n",
       "\n",
       "    .dataframe thead th {\n",
       "        text-align: right;\n",
       "    }\n",
       "</style>\n",
       "<table border=\"1\" class=\"dataframe\">\n",
       "  <thead>\n",
       "    <tr style=\"text-align: right;\">\n",
       "      <th></th>\n",
       "      <th>age</th>\n",
       "      <th>workclass</th>\n",
       "      <th>fnlwgt</th>\n",
       "      <th>education</th>\n",
       "      <th>education-num</th>\n",
       "      <th>marital-status</th>\n",
       "      <th>occupation</th>\n",
       "      <th>relationship</th>\n",
       "      <th>race</th>\n",
       "      <th>sex</th>\n",
       "      <th>capital-gain</th>\n",
       "      <th>capital-loss</th>\n",
       "      <th>hours-per-week</th>\n",
       "      <th>native-country</th>\n",
       "      <th>label</th>\n",
       "    </tr>\n",
       "  </thead>\n",
       "  <tbody>\n",
       "    <tr>\n",
       "      <th>0</th>\n",
       "      <td>3</td>\n",
       "      <td>7</td>\n",
       "      <td>0</td>\n",
       "      <td>9</td>\n",
       "      <td>3</td>\n",
       "      <td>4</td>\n",
       "      <td>1</td>\n",
       "      <td>1</td>\n",
       "      <td>4</td>\n",
       "      <td>1</td>\n",
       "      <td>0</td>\n",
       "      <td>0</td>\n",
       "      <td>1</td>\n",
       "      <td>39</td>\n",
       "      <td>1</td>\n",
       "    </tr>\n",
       "    <tr>\n",
       "      <th>1</th>\n",
       "      <td>1</td>\n",
       "      <td>6</td>\n",
       "      <td>0</td>\n",
       "      <td>9</td>\n",
       "      <td>3</td>\n",
       "      <td>2</td>\n",
       "      <td>4</td>\n",
       "      <td>0</td>\n",
       "      <td>4</td>\n",
       "      <td>1</td>\n",
       "      <td>0</td>\n",
       "      <td>0</td>\n",
       "      <td>0</td>\n",
       "      <td>39</td>\n",
       "      <td>1</td>\n",
       "    </tr>\n",
       "    <tr>\n",
       "      <th>2</th>\n",
       "      <td>3</td>\n",
       "      <td>4</td>\n",
       "      <td>0</td>\n",
       "      <td>11</td>\n",
       "      <td>2</td>\n",
       "      <td>0</td>\n",
       "      <td>6</td>\n",
       "      <td>1</td>\n",
       "      <td>4</td>\n",
       "      <td>1</td>\n",
       "      <td>0</td>\n",
       "      <td>0</td>\n",
       "      <td>1</td>\n",
       "      <td>39</td>\n",
       "      <td>1</td>\n",
       "    </tr>\n",
       "    <tr>\n",
       "      <th>3</th>\n",
       "      <td>1</td>\n",
       "      <td>4</td>\n",
       "      <td>0</td>\n",
       "      <td>1</td>\n",
       "      <td>1</td>\n",
       "      <td>2</td>\n",
       "      <td>6</td>\n",
       "      <td>0</td>\n",
       "      <td>2</td>\n",
       "      <td>1</td>\n",
       "      <td>0</td>\n",
       "      <td>0</td>\n",
       "      <td>1</td>\n",
       "      <td>39</td>\n",
       "      <td>1</td>\n",
       "    </tr>\n",
       "    <tr>\n",
       "      <th>4</th>\n",
       "      <td>3</td>\n",
       "      <td>4</td>\n",
       "      <td>1</td>\n",
       "      <td>9</td>\n",
       "      <td>3</td>\n",
       "      <td>2</td>\n",
       "      <td>10</td>\n",
       "      <td>5</td>\n",
       "      <td>2</td>\n",
       "      <td>0</td>\n",
       "      <td>0</td>\n",
       "      <td>0</td>\n",
       "      <td>1</td>\n",
       "      <td>5</td>\n",
       "      <td>1</td>\n",
       "    </tr>\n",
       "  </tbody>\n",
       "</table>\n",
       "</div>"
      ],
      "text/plain": [
       "   age  workclass  fnlwgt  education  education-num  marital-status  \\\n",
       "0    3          7       0          9              3               4   \n",
       "1    1          6       0          9              3               2   \n",
       "2    3          4       0         11              2               0   \n",
       "3    1          4       0          1              1               2   \n",
       "4    3          4       1          9              3               2   \n",
       "\n",
       "   occupation  relationship  race  sex  capital-gain  capital-loss  \\\n",
       "0           1             1     4    1             0             0   \n",
       "1           4             0     4    1             0             0   \n",
       "2           6             1     4    1             0             0   \n",
       "3           6             0     2    1             0             0   \n",
       "4          10             5     2    0             0             0   \n",
       "\n",
       "   hours-per-week  native-country  label  \n",
       "0               1              39      1  \n",
       "1               0              39      1  \n",
       "2               1              39      1  \n",
       "3               1              39      1  \n",
       "4               1               5      1  "
      ]
     },
     "execution_count": 131,
     "metadata": {},
     "output_type": "execute_result"
    }
   ],
   "source": [
    "train_data.head()"
   ]
  },
  {
   "cell_type": "code",
   "execution_count": 132,
   "id": "7ef1d836-278e-428a-8004-2de03ea08851",
   "metadata": {},
   "outputs": [],
   "source": [
    "# 特征标签分离\n",
    "X_train, y_train = np.array(train_data)[:,:-1], np.array(train_data)[:,-1] \n",
    "X_test, y_test = np.array(test_data)[:,:-1], np.array(test_data)[:,-1]"
   ]
  },
  {
   "cell_type": "code",
   "execution_count": 173,
   "id": "865d7ba6-57f6-4e04-988d-e7656d9f1313",
   "metadata": {},
   "outputs": [],
   "source": [
    "model = ClassificationTree()"
   ]
  },
  {
   "cell_type": "code",
   "execution_count": 174,
   "id": "10d228c9-d42c-46bb-bdc1-1571ac19c226",
   "metadata": {},
   "outputs": [
    {
     "name": "stdout",
     "output_type": "stream",
     "text": [
      "正在运行中······\n",
      "\n",
      "运行结束!!!\n",
      "\n"
     ]
    }
   ],
   "source": [
    "print('正在运行中······\\n')\n",
    "model.fit(X_test, y_test)\n",
    "print('运行结束!!!\\n')"
   ]
  },
  {
   "cell_type": "code",
   "execution_count": null,
   "id": "ebb74b3f-f749-4778-bac3-32296e9f3f8a",
   "metadata": {},
   "outputs": [],
   "source": [
    "# 测试数据\n",
    "print(model.score(X_test, y_test))"
   ]
  },
  {
   "cell_type": "code",
   "execution_count": 175,
   "id": "6295de8c-2916-414d-a25a-6e8505d61782",
   "metadata": {},
   "outputs": [],
   "source": [
    "# 预测值\n",
    "y_pred = model.predict(X_test)"
   ]
  },
  {
   "cell_type": "code",
   "execution_count": 176,
   "id": "81f6593c-a5b1-4edb-9d95-b06d6574bb36",
   "metadata": {},
   "outputs": [
    {
     "name": "stdout",
     "output_type": "stream",
     "text": [
      "Accuracy: 0.8506848473680978\n"
     ]
    }
   ],
   "source": [
    "print('Accuracy:', accuracy_score(y_test, y_pred))"
   ]
  },
  {
   "cell_type": "code",
   "execution_count": 177,
   "id": "13a9989f-27a1-4d69-8c22-e4749374308b",
   "metadata": {},
   "outputs": [
    {
     "data": {
      "image/png": "[encoded data removed]",
      "text/plain": [
       "<Figure size 600x400 with 2 Axes>"
      ]
     },
     "metadata": {},
     "output_type": "display_data"
    }
   ],
   "source": [
    "# 计算混淆矩阵\n",
    "cm = confusion_matrix(y_test, y_pred)\n",
    "\n",
    "# 创建一个热力图\n",
    "plt.figure(figsize=(6, 4))\n",
    "sns.heatmap(cm, annot=True, fmt=\"d\", cmap=\"Blues\")\n",
    "\n",
    "# 设置坐标轴标签和标题\n",
    "plt.xlabel('Predicted')\n",
    "plt.ylabel('True')\n",
    "plt.title('Confusion Matrix')\n",
    "\n",
    "# 显示图形\n",
    "plt.show()"
   ]
  },
  {
   "cell_type": "code",
   "execution_count": 178,
   "id": "44008cd4-d24d-4af9-a367-c55406dff623",
   "metadata": {},
   "outputs": [
    {
     "data": {
      "image/png": "[encoded data removed]",
      "text/plain": [
       "<Figure size 640x480 with 1 Axes>"
      ]
     },
     "metadata": {},
     "output_type": "display_data"
    }
   ],
   "source": [
    "# AUC Curve\n",
    "fpr, tpr, thresholds = roc_curve(y_test, y_pred)\n",
    "\n",
    "# 计算AUC值\n",
    "auc_value = auc(fpr, tpr)\n",
    "\n",
    "# 绘制AUC曲线\n",
    "plt.figure()\n",
    "plt.plot(fpr, tpr, color='darkorange', label='ROC curve (area = %0.2f)' % auc_value)\n",
    "plt.plot([0, 1], [0, 1], color='navy', linestyle='--')\n",
    "plt.xlim([0.0, 1.0])\n",
    "plt.ylim([0.0, 1.05])\n",
    "plt.xlabel('False Positive Rate')\n",
    "plt.ylabel('True Positive Rate')\n",
    "plt.title('AUC Curve')\n",
    "plt.legend(loc=\"lower right\")\n",
    "plt.show()"
   ]
  },
  {
   "cell_type": "code",
   "execution_count": 179,
   "id": "a4ee4638-dfaa-4e4b-b118-5b3545fa6b1f",
   "metadata": {},
   "outputs": [
    {
     "name": "stdout",
     "output_type": "stream",
     "text": [
      "              precision    recall  f1-score   support\n",
      "\n",
      "           0       0.74      0.56      0.64      3846\n",
      "           1       0.87      0.94      0.91     12435\n",
      "\n",
      "    accuracy                           0.85     16281\n",
      "   macro avg       0.81      0.75      0.77     16281\n",
      "weighted avg       0.84      0.85      0.84     16281\n",
      "\n"
     ]
    }
   ],
   "source": [
    "# Report\n",
    "report = classification_report(y_test, y_pred)\n",
    "\n",
    "# 打印分类报告\n",
    "print(report)"
   ]
  },
  {
   "cell_type": "code",
   "execution_count": null,
   "id": "4e1f950f-6315-4e33-8e3a-d6d42af6b0fa",
   "metadata": {},
   "outputs": [],
   "source": []
  },
  {
   "cell_type": "code",
   "execution_count": null,
   "id": "fc5f4844-3a4f-4b81-9d52-3890afaf3353",
   "metadata": {},
   "outputs": [],
   "source": []
  }
 ],
 "metadata": {
  "kernelspec": {
   "display_name": "Python 3 (ipykernel)",
   "language": "python",
   "name": "python3"
  },
  "language_info": {
   "codemirror_mode": {
    "name": "ipython",
    "version": 3
   },
   "file_extension": ".py",
   "mimetype": "text/x-python",
   "name": "python",
   "nbconvert_exporter": "python",
   "pygments_lexer": "ipython3",
   "version": "3.9.12"
  }
 },
 "nbformat": 4,
 "nbformat_minor": 5
}
